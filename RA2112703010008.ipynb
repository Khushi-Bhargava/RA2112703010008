{
  "nbformat": 4,
  "nbformat_minor": 0,
  "metadata": {
    "colab": {
      "name": "RA2112703010008.ipynb",
      "provenance": [],
      "authorship_tag": "ABX9TyNxlj31q/2uKCxevTO4Txib",
      "include_colab_link": true
    },
    "kernelspec": {
      "name": "python3",
      "display_name": "Python 3"
    },
    "language_info": {
      "name": "python"
    }
  },
  "cells": [
    {
      "cell_type": "markdown",
      "metadata": {
        "id": "view-in-github",
        "colab_type": "text"
      },
      "source": [
        "<a href=\"https://colab.research.google.com/github/RA2112703010008/RA2112703010008/blob/main/RA2112703010008.ipynb\" target=\"_parent\"><img src=\"https://colab.research.google.com/assets/colab-badge.svg\" alt=\"Open In Colab\"/></a>"
      ]
    },
    {
      "cell_type": "code",
      "execution_count": 1,
      "metadata": {
        "colab": {
          "base_uri": "https://localhost:8080/"
        },
        "id": "Q-GPV-qVUiYa",
        "outputId": "65c409f6-f23b-4507-a0b2-d8a2562a2d61"
      },
      "outputs": [
        {
          "output_type": "stream",
          "name": "stdout",
          "text": [
            "    Name  Age Height\n",
            "0   Amit   19  150cm\n",
            "1  Virat   22  152cm\n",
            "2  Rohit   17  154cm\n",
            "3   Rona   22   150m\n"
          ]
        }
      ],
      "source": [
        "import pandas as pd\n",
        " \n",
        "# intialise data of lists.\n",
        "data = {'Name':['Amit', 'Virat', 'Rohit', 'Rona'],\n",
        "        'Age':[19, 22, 17, 22], 'Height':['150cm', '152cm', '154cm', '150m']}\n",
        " \n",
        "# Create DataFrame\n",
        "df = pd.DataFrame(data)\n",
        " \n",
        "# Print the output.\n",
        "print(df)"
      ]
    },
    {
      "cell_type": "code",
      "source": [
        "import numpy as np\n",
        "import pandas as pd\n",
        "\"\"\"Analysis of 7 Countries\"\"\"\n",
        "df=pd.DataFrame({\n",
        "    'Population' : [35.467, 63.951, 80.94, 60.665, 127.061, 65.511, 318.523],\n",
        "    'GDP' : [8574536, 3425674, 1754753, 2464567, 3542567, 5432567, 43256753],\n",
        "    'Surface Area' : [9483209, 235123, 453256, 673829, 475829 , 832476, 8574638],\n",
        "    'HDI' : [0.645, 0.754, 0.967, 0.342, 0.564, 0.976, 0.866],\n",
        "    'Continent' : ['America', 'Europe', 'Europe', 'Europe', 'Asia', 'Europe', 'America']\n",
        "\n",
        "},columns=['Population', 'GDP', 'Surface Area', 'HDI', 'Continent'])\n",
        "df.index=[\n",
        "          'Canada',\n",
        "          'France',\n",
        "          'Germany',\n",
        "          'Italy',\n",
        "          'Japan',\n",
        "          'United Kingdom',\n",
        "          'United States']\n",
        "print(df)\n",
        "print()\n",
        "print(df.loc['Canada'])\n",
        "print()\n",
        "print(\"Mean: \")\n",
        "print(df.mean())\n",
        "crisis=pd.Series([-1000000,-0.3], index=['GDP', 'HDI'])\n",
        "print()\n",
        "print(df[['GDP','HDI']]+crisis)\n",
        "lang=pd.Series(\n",
        "                ['French','German','Italian'],\n",
        "               index=['France','Germany','Italy']\n",
        ")\n",
        "df['Language']=lang\n",
        "print()\n",
        "print(df)"
      ],
      "metadata": {
        "colab": {
          "base_uri": "https://localhost:8080/"
        },
        "id": "g8ZKFn4iWDLe",
        "outputId": "0af7d1da-7567-460a-ff67-542be509fefb"
      },
      "execution_count": 2,
      "outputs": [
        {
          "output_type": "stream",
          "name": "stdout",
          "text": [
            "                Population       GDP  Surface Area    HDI Continent\n",
            "Canada              35.467   8574536       9483209  0.645   America\n",
            "France              63.951   3425674        235123  0.754    Europe\n",
            "Germany             80.940   1754753        453256  0.967    Europe\n",
            "Italy               60.665   2464567        673829  0.342    Europe\n",
            "Japan              127.061   3542567        475829  0.564      Asia\n",
            "United Kingdom      65.511   5432567        832476  0.976    Europe\n",
            "United States      318.523  43256753       8574638  0.866   America\n",
            "\n",
            "Population       35.467\n",
            "GDP             8574536\n",
            "Surface Area    9483209\n",
            "HDI               0.645\n",
            "Continent       America\n",
            "Name: Canada, dtype: object\n",
            "\n",
            "Mean: \n",
            "Population      1.074454e+02\n",
            "GDP             9.778774e+06\n",
            "Surface Area    2.961194e+06\n",
            "HDI             7.305714e-01\n",
            "dtype: float64\n",
            "\n",
            "                       GDP    HDI\n",
            "Canada           7574536.0  0.345\n",
            "France           2425674.0  0.454\n",
            "Germany           754753.0  0.667\n",
            "Italy            1464567.0  0.042\n",
            "Japan            2542567.0  0.264\n",
            "United Kingdom   4432567.0  0.676\n",
            "United States   42256753.0  0.566\n",
            "\n",
            "                Population       GDP  Surface Area    HDI Continent Language\n",
            "Canada              35.467   8574536       9483209  0.645   America      NaN\n",
            "France              63.951   3425674        235123  0.754    Europe   French\n",
            "Germany             80.940   1754753        453256  0.967    Europe   German\n",
            "Italy               60.665   2464567        673829  0.342    Europe  Italian\n",
            "Japan              127.061   3542567        475829  0.564      Asia      NaN\n",
            "United Kingdom      65.511   5432567        832476  0.976    Europe      NaN\n",
            "United States      318.523  43256753       8574638  0.866   America      NaN\n"
          ]
        }
      ]
    },
    {
      "cell_type": "code",
      "source": [
        "import pandas as pd\n",
        "import numpy as np\n",
        "print(\"Mark of Khushi\")\n",
        "marks=[90,82,93,94,98]\n",
        "sub_name=['Computer','Social','Science','English','Maths']\n",
        "ind=pd.Series(marks,index=sub_name)\n",
        "dt=pd.DataFrame(\n",
        "    {\n",
        "        \"Subjects\":pd.Series(sub_name),\n",
        "        \"Marks\":pd.Series(marks),\n",
        "        \"Grade\":pd.Series(['A','B','A','A','A']),\n",
        "        \"Qualification\":'Pass',\n",
        "        \"Rank\":np.array([1]*5),\n",
        "    }\n",
        ")\n",
        "print(dt)"
      ],
      "metadata": {
        "colab": {
          "base_uri": "https://localhost:8080/"
        },
        "id": "ZJ3IJN46WGSW",
        "outputId": "b283af3b-a5e3-4503-aefa-e8200cec3900"
      },
      "execution_count": 6,
      "outputs": [
        {
          "output_type": "stream",
          "name": "stdout",
          "text": [
            "Mark of Khushi\n",
            "   Subjects  Marks Grade Qualification  Rank\n",
            "0  Computer     90     A          Pass     1\n",
            "1    Social     82     B          Pass     1\n",
            "2   Science     93    Ai          Pass     1\n",
            "3   English     94     A          Pass     1\n",
            "4     Maths     98     A          Pass     1\n"
          ]
        }
      ]
    }
  ]
}